{
 "cells": [
  {
   "cell_type": "code",
   "execution_count": 64,
   "id": "46ee916a-0d01-4fcc-a167-7edd42c578eb",
   "metadata": {},
   "outputs": [],
   "source": [
    "# 1. Import Libraryimport pandas as pd\n",
    "import numpy as np\n",
    "import matplotlib.pyplot as plt\n",
    "import seaborn as sns\n",
    "\n",
    "from sklearn.model_selection import train_test_split\n",
    "from sklearn.preprocessing import LabelEncoder\n",
    "from sklearn.tree import DecisionTreeClassifier\n",
    "from sklearn.linear_model import LogisticRegression\n",
    "from sklearn.metrics import accuracy_score, confusion_matrix, classification_report\n"
   ]
  },
  {
   "cell_type": "code",
   "execution_count": 65,
   "id": "2eab36cc-4027-4f27-ae5f-dd1e29f0e29d",
   "metadata": {},
   "outputs": [
    {
     "name": "stdout",
     "output_type": "stream",
     "text": [
      "Kolom: ['Student_ID', 'Student_Age', 'Sex', 'High_School_Type', 'Scholarship', 'Additional_Work', 'Sports_activity', 'Transportation', 'Weekly_Study_Hours', 'Attendance', 'Reading', 'Notes', 'Listening_in_Class', 'Project_work', 'Grade']\n"
     ]
    }
   ],
   "source": [
    "# 2. Load Data\n",
    "df = pd.read_csv('students_performance.csv')\n",
    "\n",
    "# Cek nama kolom\n",
    "print(\"Kolom:\", df.columns.tolist())\n"
   ]
  },
  {
   "cell_type": "code",
   "execution_count": 66,
   "id": "c19e0da4-5bff-49ae-8953-725c495082c3",
   "metadata": {},
   "outputs": [
    {
     "name": "stdout",
     "output_type": "stream",
     "text": [
      "Kolom: ['Student_ID', 'Student_Age', 'Sex', 'High_School_Type', 'Scholarship', 'Additional_Work', 'Sports_activity', 'Transportation', 'Weekly_Study_Hours', 'Attendance', 'Reading', 'Notes', 'Listening_in_Class', 'Project_work', 'Grade']\n",
      "Nilai unik Weekly_Study_Hours: [ 0  2 12  8]\n",
      "Jumlah data sebelum drop NA: 145\n"
     ]
    }
   ],
   "source": [
    "# 3. Cek Kolom & Data Target\n",
    "# Tampilkan semua kolom\n",
    "print(\"Kolom:\", df.columns.tolist())\n",
    "\n",
    "# Cek nilai unik dan null pada Weekly_Study_Hours\n",
    "print(\"Nilai unik Weekly_Study_Hours:\", df['Weekly_Study_Hours'].unique())\n",
    "print(\"Jumlah data sebelum drop NA:\", len(df))\n"
   ]
  },
  {
   "cell_type": "code",
   "execution_count": 67,
   "id": "7e0f9416-f192-4494-9712-8ff7e8b6440a",
   "metadata": {},
   "outputs": [
    {
     "name": "stdout",
     "output_type": "stream",
     "text": [
      "Jumlah data setelah filter: 145\n",
      "Distribusi target performance:\n",
      " performance\n",
      "0    124\n",
      "1     21\n",
      "Name: count, dtype: int64\n"
     ]
    }
   ],
   "source": [
    "# 4. Buat Label Target dari Weekly_Study_Hours\n",
    "# Drop baris kosong di Weekly_Study_Hours\n",
    "df = df.dropna(subset=['Weekly_Study_Hours'])\n",
    "\n",
    "# Konversi ke numerik\n",
    "df['Weekly_Study_Hours'] = pd.to_numeric(df['Weekly_Study_Hours'], errors='coerce')\n",
    "df = df.dropna(subset=['Weekly_Study_Hours'])\n",
    "\n",
    "# Label performa belajar: ≥10 jam per minggu = 1 (rajin), sisanya = 0\n",
    "df['performance'] = df['Weekly_Study_Hours'].apply(lambda x: 1 if x >= 10 else 0)\n",
    "\n",
    "# Cek jumlah data dan distribusi target\n",
    "print(\"Jumlah data setelah filter:\", len(df))\n",
    "print(\"Distribusi target performance:\\n\", df['performance'].value_counts())\n"
   ]
  },
  {
   "cell_type": "code",
   "execution_count": 68,
   "id": "dac74799-4467-412b-bcca-c8fcd078d434",
   "metadata": {},
   "outputs": [
    {
     "name": "stdout",
     "output_type": "stream",
     "text": [
      "X shape: (145, 14)\n",
      "y shape: (145,)\n",
      "Unique labels: [0 1]\n"
     ]
    }
   ],
   "source": [
    "# 5. Persiapan Data untuk Modeling\n",
    "X = df.drop(['Student_ID', 'performance'], axis=1)\n",
    "y = df['performance'].astype(int)  # pastikan integer, bukan object/string\n",
    "\n",
    "# Encode kolom kategorikal\n",
    "le = LabelEncoder()\n",
    "for col in X.select_dtypes(include='object').columns:\n",
    "    X[col] = le.fit_transform(X[col])\n",
    "\n",
    "# Cek ulang X dan y\n",
    "print(\"X shape:\", X.shape)\n",
    "print(\"y shape:\", y.shape)\n",
    "print(\"Unique labels:\", y.unique())\n"
   ]
  },
  {
   "cell_type": "code",
   "execution_count": 69,
   "id": "fa198500-71db-4b17-9dd7-64727a0c9e4e",
   "metadata": {},
   "outputs": [],
   "source": [
    "# 6. Split Data (dengan stratify=y)\n",
    "X_train, X_test, y_train, y_test = train_test_split(\n",
    "    X, \n",
    "    y,\n",
    "    test_size=0.3,\n",
    "    random_state=42,\n",
    "    stratify=y\n",
    ")\n"
   ]
  },
  {
   "cell_type": "code",
   "execution_count": 70,
   "id": "dc723f72-9883-48e5-af6c-285fad0f875a",
   "metadata": {},
   "outputs": [],
   "source": [
    "# 7 Modeling dan Prediksi\n",
    "# 7.1 Decision Tree Classifier\n",
    "# Buat dan latih model Decision Tree\n",
    "tree_model = DecisionTreeClassifier(random_state=42)\n",
    "tree_model.fit(X_train, y_train)\n",
    "\n",
    "# Prediksi pada data test\n",
    "y_pred_tree = tree_model.predict(X_test)\n"
   ]
  },
  {
   "cell_type": "code",
   "execution_count": 71,
   "id": "e56dd84b-3bd1-4e0f-9f55-2916e77cf9b2",
   "metadata": {},
   "outputs": [],
   "source": [
    "# 7.2 Logistic Regression\n",
    "# Buat dan latih model Logistic Regression\n",
    "log_model = LogisticRegression(max_iter=1000)\n",
    "log_model.fit(X_train, y_train)\n",
    "\n",
    "# Prediksi pada data test\n",
    "y_pred_log = log_model.predict(X_test)\n"
   ]
  },
  {
   "cell_type": "code",
   "execution_count": 72,
   "id": "9f292574-c84f-4d28-8390-8e061764283a",
   "metadata": {},
   "outputs": [],
   "source": [
    "# 8. Evaluasi Model\n",
    "# 8.1 Fungsi Evaluasi\n",
    "def evaluate_model(name, y_true, y_pred):\n",
    "    print(f\"\\nModel: {name}\")\n",
    "    print(\"Akurasi:\", accuracy_score(y_true, y_pred))\n",
    "    print(\"Confusion Matrix:\\n\", confusion_matrix(y_true, y_pred))\n",
    "    print(\"Classification Report:\\n\", classification_report(y_true, y_pred))\n"
   ]
  },
  {
   "cell_type": "code",
   "execution_count": 73,
   "id": "42305739-0c44-4440-a23a-c1a655ecaa53",
   "metadata": {},
   "outputs": [
    {
     "name": "stdout",
     "output_type": "stream",
     "text": [
      "\n",
      "Model: Decision Tree\n",
      "Akurasi: 1.0\n",
      "Confusion Matrix:\n",
      " [[38  0]\n",
      " [ 0  6]]\n",
      "Classification Report:\n",
      "               precision    recall  f1-score   support\n",
      "\n",
      "           0       1.00      1.00      1.00        38\n",
      "           1       1.00      1.00      1.00         6\n",
      "\n",
      "    accuracy                           1.00        44\n",
      "   macro avg       1.00      1.00      1.00        44\n",
      "weighted avg       1.00      1.00      1.00        44\n",
      "\n",
      "\n",
      "Model: Logistic Regression\n",
      "Akurasi: 1.0\n",
      "Confusion Matrix:\n",
      " [[38  0]\n",
      " [ 0  6]]\n",
      "Classification Report:\n",
      "               precision    recall  f1-score   support\n",
      "\n",
      "           0       1.00      1.00      1.00        38\n",
      "           1       1.00      1.00      1.00         6\n",
      "\n",
      "    accuracy                           1.00        44\n",
      "   macro avg       1.00      1.00      1.00        44\n",
      "weighted avg       1.00      1.00      1.00        44\n",
      "\n"
     ]
    }
   ],
   "source": [
    "# 8.2 Evaluasi untuk Kedua Model\n",
    "evaluate_model(\"Decision Tree\", y_test, y_pred_tree)\n",
    "evaluate_model(\"Logistic Regression\", y_test, y_pred_log)\n"
   ]
  },
  {
   "cell_type": "code",
   "execution_count": 74,
   "id": "f1c2f118-0199-43d0-93d4-851e536e9dff",
   "metadata": {},
   "outputs": [
    {
     "data": {
      "image/png": "[encoded data removed]",
      "text/plain": [
       "<Figure size 600x400 with 2 Axes>"
      ]
     },
     "metadata": {},
     "output_type": "display_data"
    }
   ],
   "source": [
    "# 9 Visualisasi Confusion Matrix\n",
    "# 9.1 Untuk Decision Tree\n",
    "plt.figure(figsize=(6,4))\n",
    "sns.heatmap(confusion_matrix(y_test, y_pred_tree), annot=True, fmt='d', cmap='YlGnBu')\n",
    "plt.title('Confusion Matrix - Decision Tree')\n",
    "plt.xlabel('Predicted')\n",
    "plt.ylabel('Actual')\n",
    "plt.show()\n"
   ]
  },
  {
   "cell_type": "code",
   "execution_count": 75,
   "id": "189768ca-2dd1-4cef-8332-14549f5ea161",
   "metadata": {},
   "outputs": [
    {
     "data": {
      "image/png": "[encoded data removed]",
      "text/plain": [
       "<Figure size 600x400 with 2 Axes>"
      ]
     },
     "metadata": {},
     "output_type": "display_data"
    }
   ],
   "source": [
    "# 9.2 Untuk Logistic Regression\n",
    "plt.figure(figsize=(6,4))\n",
    "sns.heatmap(confusion_matrix(y_test, y_pred_log), annot=True, fmt='d', cmap='Oranges')\n",
    "plt.title('Confusion Matrix - Logistic Regression')\n",
    "plt.xlabel('Predicted')\n",
    "plt.ylabel('Actual')\n",
    "plt.show()\n"
   ]
  }
 ],
 "metadata": {
  "kernelspec": {
   "display_name": "Python 3 (ipykernel)",
   "language": "python",
   "name": "python3"
  },
  "language_info": {
   "codemirror_mode": {
    "name": "ipython",
    "version": 3
   },
   "file_extension": ".py",
   "mimetype": "text/x-python",
   "name": "python",
   "nbconvert_exporter": "python",
   "pygments_lexer": "ipython3",
   "version": "3.13.0"
  }
 },
 "nbformat": 4,
 "nbformat_minor": 5
}
